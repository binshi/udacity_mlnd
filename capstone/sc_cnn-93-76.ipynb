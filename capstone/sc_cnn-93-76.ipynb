{
 "cells": [
  {
   "cell_type": "markdown",
   "metadata": {},
   "source": [
    "### 1. Load the data"
   ]
  },
  {
   "cell_type": "code",
   "execution_count": 1,
   "metadata": {
    "collapsed": true
   },
   "outputs": [
    {
     "name": "stderr",
     "output_type": "stream",
     "text": [
      "Using TensorFlow backend.\n"
     ]
    }
   ],
   "source": [
    "import numpy as np\n",
    "import pandas as pd\n",
    "from glob import glob\n",
    "import os\n",
    "os.environ['TF_CPP_MIN_LOG_LEVEL']='3'\n",
    "import tensorflow as tf\n",
    "\n",
    "from keras.preprocessing import image\n",
    "train = pd.read_csv(\"../../scene-classification/train.csv\")\n",
    "train_image = []\n",
    "for i in range(train.shape[0]):\n",
    "#     print(train['image_name'][i])\n",
    "    img = image.load_img('../../scene-classification/train/'+train['image_name'][i], target_size=(150,150,3))\n",
    "    img = image.img_to_array(img)\n",
    "    img = img/255\n",
    "    train_image.append(img)\n",
    "X = np.array(train_image)"
   ]
  },
  {
   "cell_type": "code",
   "execution_count": 2,
   "metadata": {},
   "outputs": [
    {
     "name": "stdout",
     "output_type": "stream",
     "text": [
      "(17034,)\n"
     ]
    }
   ],
   "source": [
    "from keras.utils import to_categorical\n",
    "y=train['label'].values\n",
    "# y = to_categorical(y)\n",
    "print(y.shape)"
   ]
  },
  {
   "cell_type": "markdown",
   "metadata": {},
   "source": [
    "### 2.Image Augmentation"
   ]
  },
  {
   "cell_type": "code",
   "execution_count": 3,
   "metadata": {},
   "outputs": [
    {
     "name": "stdout",
     "output_type": "stream",
     "text": [
      "x_train shape: (10901, 150, 150, 3)\n",
      "10901 train samples\n",
      "3407 test samples\n",
      "2726 validation samples\n"
     ]
    }
   ],
   "source": [
    "from keras.preprocessing.image import ImageDataGenerator\n",
    "from keras.preprocessing import image\n",
    "from keras import preprocessing\n",
    "from sklearn.model_selection import train_test_split\n",
    "x_train, x_test, y_train, y_test = train_test_split(X, y, random_state=42, test_size=0.2)\n",
    "x_train, x_valid, y_train, y_valid = train_test_split(x_train, y_train, test_size=0.2, random_state=1)\n",
    "\n",
    "# print shape of training set\n",
    "print('x_train shape:', x_train.shape)\n",
    "# print number of training, validation, and test images\n",
    "print(x_train.shape[0], 'train samples')\n",
    "print(x_test.shape[0], 'test samples')\n",
    "print(x_valid.shape[0], 'validation samples')\n"
   ]
  },
  {
   "cell_type": "markdown",
   "metadata": {},
   "source": [
    "### 3.Initial model architecture"
   ]
  },
  {
   "cell_type": "code",
   "execution_count": 4,
   "metadata": {},
   "outputs": [
    {
     "name": "stderr",
     "output_type": "stream",
     "text": [
      "WARNING: Logging before flag parsing goes to stderr.\n",
      "W1002 03:08:11.752146 139834832803584 deprecation_wrapper.py:119] From /home/ubuntu/anaconda3/envs/tensorflow_p36/lib/python3.6/site-packages/keras/backend/tensorflow_backend.py:74: The name tf.get_default_graph is deprecated. Please use tf.compat.v1.get_default_graph instead.\n",
      "\n",
      "W1002 03:08:11.772804 139834832803584 deprecation_wrapper.py:119] From /home/ubuntu/anaconda3/envs/tensorflow_p36/lib/python3.6/site-packages/keras/backend/tensorflow_backend.py:517: The name tf.placeholder is deprecated. Please use tf.compat.v1.placeholder instead.\n",
      "\n",
      "W1002 03:08:11.775824 139834832803584 deprecation_wrapper.py:119] From /home/ubuntu/anaconda3/envs/tensorflow_p36/lib/python3.6/site-packages/keras/backend/tensorflow_backend.py:4138: The name tf.random_uniform is deprecated. Please use tf.random.uniform instead.\n",
      "\n",
      "W1002 03:08:11.804953 139834832803584 deprecation_wrapper.py:119] From /home/ubuntu/anaconda3/envs/tensorflow_p36/lib/python3.6/site-packages/keras/backend/tensorflow_backend.py:3976: The name tf.nn.max_pool is deprecated. Please use tf.nn.max_pool2d instead.\n",
      "\n",
      "W1002 03:08:11.904529 139834832803584 deprecation_wrapper.py:119] From /home/ubuntu/anaconda3/envs/tensorflow_p36/lib/python3.6/site-packages/keras/backend/tensorflow_backend.py:133: The name tf.placeholder_with_default is deprecated. Please use tf.compat.v1.placeholder_with_default instead.\n",
      "\n",
      "W1002 03:08:11.913509 139834832803584 deprecation.py:506] From /home/ubuntu/anaconda3/envs/tensorflow_p36/lib/python3.6/site-packages/keras/backend/tensorflow_backend.py:3445: calling dropout (from tensorflow.python.ops.nn_ops) with keep_prob is deprecated and will be removed in a future version.\n",
      "Instructions for updating:\n",
      "Please use `rate` instead of `keep_prob`. Rate should be set to `rate = 1 - keep_prob`.\n"
     ]
    },
    {
     "name": "stdout",
     "output_type": "stream",
     "text": [
      "_________________________________________________________________\n",
      "Layer (type)                 Output Shape              Param #   \n",
      "=================================================================\n",
      "conv2d_1 (Conv2D)            (None, 148, 148, 200)     5600      \n",
      "_________________________________________________________________\n",
      "conv2d_2 (Conv2D)            (None, 146, 146, 180)     324180    \n",
      "_________________________________________________________________\n",
      "max_pooling2d_1 (MaxPooling2 (None, 29, 29, 180)       0         \n",
      "_________________________________________________________________\n",
      "conv2d_3 (Conv2D)            (None, 27, 27, 180)       291780    \n",
      "_________________________________________________________________\n",
      "conv2d_4 (Conv2D)            (None, 25, 25, 140)       226940    \n",
      "_________________________________________________________________\n",
      "conv2d_5 (Conv2D)            (None, 23, 23, 100)       126100    \n",
      "_________________________________________________________________\n",
      "conv2d_6 (Conv2D)            (None, 21, 21, 50)        45050     \n",
      "_________________________________________________________________\n",
      "max_pooling2d_2 (MaxPooling2 (None, 4, 4, 50)          0         \n",
      "_________________________________________________________________\n",
      "flatten_1 (Flatten)          (None, 800)               0         \n",
      "_________________________________________________________________\n",
      "dense_1 (Dense)              (None, 180)               144180    \n",
      "_________________________________________________________________\n",
      "dense_2 (Dense)              (None, 100)               18100     \n",
      "_________________________________________________________________\n",
      "dense_3 (Dense)              (None, 50)                5050      \n",
      "_________________________________________________________________\n",
      "dropout_1 (Dropout)          (None, 50)                0         \n",
      "_________________________________________________________________\n",
      "dense_4 (Dense)              (None, 6)                 306       \n",
      "=================================================================\n",
      "Total params: 1,187,286\n",
      "Trainable params: 1,187,286\n",
      "Non-trainable params: 0\n",
      "_________________________________________________________________\n"
     ]
    }
   ],
   "source": [
    "from keras.models import Sequential\n",
    "from keras.layers import Conv2D, MaxPooling2D, Flatten, Dense, Dropout\n",
    "from IPython.display import SVG\n",
    "from keras.utils.vis_utils import model_to_dot\n",
    "\n",
    "model = Sequential()\n",
    "# model.add(Conv2D(filters=16, kernel_size=2, padding='same', activation='relu', \n",
    "#                         input_shape=(150, 150, 3)))\n",
    "# model.add(MaxPooling2D(pool_size=2))\n",
    "# model.add(Conv2D(filters=32, kernel_size=2, padding='same', activation='relu'))\n",
    "# model.add(MaxPooling2D(pool_size=2))\n",
    "# model.add(Dropout(0.2))\n",
    "# model.add(Flatten())\n",
    "# model.add(Dense(500, activation='relu'))\n",
    "# model.add(Dropout(0.2))\n",
    "# model.add(Dense(6, activation='softmax'))\n",
    "\n",
    "model.add(Conv2D(200,kernel_size=(3,3),activation='relu',input_shape=(150,150,3)))\n",
    "model.add(Conv2D(180,kernel_size=(3,3),activation='relu'))\n",
    "model.add(MaxPooling2D(5,5))\n",
    "model.add(Conv2D(180,kernel_size=(3,3),activation='relu'))\n",
    "model.add(Conv2D(140,kernel_size=(3,3),activation='relu'))\n",
    "model.add(Conv2D(100,kernel_size=(3,3),activation='relu'))\n",
    "model.add(Conv2D(50,kernel_size=(3,3),activation='relu'))\n",
    "model.add(MaxPooling2D(5,5))\n",
    "model.add(Flatten())\n",
    "model.add(Dense(180,activation='relu'))\n",
    "model.add(Dense(100,activation='relu'))\n",
    "model.add(Dense(50,activation='relu'))\n",
    "model.add(Dropout(rate=0.5))\n",
    "model.add(Dense(6,activation='softmax'))\n",
    "\n",
    "model.summary()\n",
    "# SVG(model_to_dot(model).create(prog='dot', format='svg'))\n",
    "# Utils.plot_model(model,to_file='model.png',show_shapes=True)"
   ]
  },
  {
   "cell_type": "code",
   "execution_count": 5,
   "metadata": {},
   "outputs": [
    {
     "name": "stderr",
     "output_type": "stream",
     "text": [
      "W1002 03:08:11.970715 139834832803584 deprecation_wrapper.py:119] From /home/ubuntu/anaconda3/envs/tensorflow_p36/lib/python3.6/site-packages/keras/optimizers.py:790: The name tf.train.Optimizer is deprecated. Please use tf.compat.v1.train.Optimizer instead.\n",
      "\n",
      "W1002 03:08:11.976746 139834832803584 deprecation_wrapper.py:119] From /home/ubuntu/anaconda3/envs/tensorflow_p36/lib/python3.6/site-packages/keras/backend/tensorflow_backend.py:3341: The name tf.log is deprecated. Please use tf.math.log instead.\n",
      "\n"
     ]
    }
   ],
   "source": [
    "from keras import optimizers\n",
    "# model.compile(loss='categorical_crossentropy',optimizer = optimizers.RMSprop(lr=1e-4),metrics=['acc'])\n",
    "# model.compile(loss='categorical_crossentropy',optimizer='adam',metrics=['accuracy'])\n",
    "model.compile(optimizer=optimizers.Adam(lr=0.0001),loss='sparse_categorical_crossentropy',metrics=['accuracy'])\n"
   ]
  },
  {
   "cell_type": "markdown",
   "metadata": {},
   "source": []
  },
  {
   "cell_type": "code",
   "execution_count": 6,
   "metadata": {},
   "outputs": [],
   "source": [
    "# gpu_options = tf.GPUOptions(allow_growth=True)\n",
    "# session = tf.InteractiveSession(config=tf.ConfigProto(gpu_options=gpu_options))"
   ]
  },
  {
   "cell_type": "code",
   "execution_count": 7,
   "metadata": {},
   "outputs": [
    {
     "name": "stderr",
     "output_type": "stream",
     "text": [
      "W1002 03:08:12.176436 139834832803584 deprecation.py:323] From /home/ubuntu/anaconda3/envs/tensorflow_p36/lib/python3.6/site-packages/tensorflow/python/ops/math_grad.py:1250: add_dispatch_support.<locals>.wrapper (from tensorflow.python.ops.array_ops) is deprecated and will be removed in a future version.\n",
      "Instructions for updating:\n",
      "Use tf.where in 2.0, which has the same broadcast rule as np.where\n"
     ]
    },
    {
     "name": "stdout",
     "output_type": "stream",
     "text": [
      "Train on 10901 samples, validate on 2726 samples\n",
      "Epoch 1/20\n",
      "10901/10901 [==============================] - 209s 19ms/step - loss: 1.3998 - acc: 0.4328 - val_loss: 1.0454 - val_acc: 0.5719\n",
      "Epoch 2/20\n",
      "10901/10901 [==============================] - 200s 18ms/step - loss: 1.1582 - acc: 0.5457 - val_loss: 0.9708 - val_acc: 0.6178\n",
      "Epoch 3/20\n",
      "10901/10901 [==============================] - 201s 18ms/step - loss: 1.0449 - acc: 0.5997 - val_loss: 0.8332 - val_acc: 0.7054\n",
      "Epoch 4/20\n",
      "10901/10901 [==============================] - 201s 18ms/step - loss: 0.9231 - acc: 0.6687 - val_loss: 0.7362 - val_acc: 0.7395\n",
      "Epoch 5/20\n",
      "10901/10901 [==============================] - 201s 18ms/step - loss: 0.8042 - acc: 0.7180 - val_loss: 0.7536 - val_acc: 0.7238\n",
      "Epoch 6/20\n",
      "10901/10901 [==============================] - 201s 18ms/step - loss: 0.7299 - acc: 0.7507 - val_loss: 0.5965 - val_acc: 0.7905\n",
      "Epoch 7/20\n",
      "10901/10901 [==============================] - 201s 18ms/step - loss: 0.6711 - acc: 0.7759 - val_loss: 0.5485 - val_acc: 0.8004\n",
      "Epoch 8/20\n",
      "10901/10901 [==============================] - 200s 18ms/step - loss: 0.6377 - acc: 0.7875 - val_loss: 0.5528 - val_acc: 0.7931\n",
      "Epoch 9/20\n",
      "10901/10901 [==============================] - 200s 18ms/step - loss: 0.6063 - acc: 0.7975 - val_loss: 0.5548 - val_acc: 0.8041\n",
      "Epoch 10/20\n",
      "10901/10901 [==============================] - 200s 18ms/step - loss: 0.5783 - acc: 0.8108 - val_loss: 0.4806 - val_acc: 0.8364\n",
      "Epoch 11/20\n",
      "10901/10901 [==============================] - 200s 18ms/step - loss: 0.5399 - acc: 0.8245 - val_loss: 0.4649 - val_acc: 0.8324\n",
      "Epoch 12/20\n",
      "10901/10901 [==============================] - 200s 18ms/step - loss: 0.5211 - acc: 0.8363 - val_loss: 0.4382 - val_acc: 0.8401\n",
      "Epoch 13/20\n",
      "10901/10901 [==============================] - 200s 18ms/step - loss: 0.4967 - acc: 0.8399 - val_loss: 0.4510 - val_acc: 0.8379\n",
      "Epoch 14/20\n",
      "10901/10901 [==============================] - 200s 18ms/step - loss: 0.4777 - acc: 0.8448 - val_loss: 0.4787 - val_acc: 0.8353\n",
      "Epoch 15/20\n",
      "10901/10901 [==============================] - 200s 18ms/step - loss: 0.4657 - acc: 0.8518 - val_loss: 0.4688 - val_acc: 0.8364\n",
      "Epoch 16/20\n",
      "10901/10901 [==============================] - 200s 18ms/step - loss: 0.4485 - acc: 0.8522 - val_loss: 0.4203 - val_acc: 0.8507\n",
      "Epoch 17/20\n",
      "10901/10901 [==============================] - 200s 18ms/step - loss: 0.4125 - acc: 0.8669 - val_loss: 0.4158 - val_acc: 0.8540\n",
      "Epoch 18/20\n",
      "10901/10901 [==============================] - 200s 18ms/step - loss: 0.4011 - acc: 0.8706 - val_loss: 0.4162 - val_acc: 0.8613\n",
      "Epoch 19/20\n",
      "10901/10901 [==============================] - 200s 18ms/step - loss: 0.3878 - acc: 0.8721 - val_loss: 0.4211 - val_acc: 0.8507\n",
      "Epoch 20/20\n",
      "10901/10901 [==============================] - 200s 18ms/step - loss: 0.3730 - acc: 0.8771 - val_loss: 0.3981 - val_acc: 0.8599\n"
     ]
    }
   ],
   "source": [
    "from keras.callbacks import ModelCheckpoint, EarlyStopping\n",
    "history = model.fit(x_train, y_train, batch_size=32, epochs=20, validation_data=(x_valid, y_valid), verbose=1, shuffle=True)"
   ]
  },
  {
   "cell_type": "code",
   "execution_count": 8,
   "metadata": {
    "collapsed": true
   },
   "outputs": [],
   "source": [
    "model.save(\"../../model_weights/CNN-93-76Model.h5\")"
   ]
  },
  {
   "cell_type": "markdown",
   "metadata": {},
   "source": [
    "### Calculate classification accuracy on test set"
   ]
  },
  {
   "cell_type": "code",
   "execution_count": 9,
   "metadata": {},
   "outputs": [
    {
     "name": "stdout",
     "output_type": "stream",
     "text": [
      "\n",
      " Test accuracy: 0.8529498092862984\n"
     ]
    }
   ],
   "source": [
    "score = model.evaluate(x_test, y_test, verbose=0)\n",
    "print('\\n', 'Test accuracy:', score[1])"
   ]
  },
  {
   "cell_type": "code",
   "execution_count": 11,
   "metadata": {},
   "outputs": [
    {
     "data": {
      "image/png": "[encoded data removed]",
      "text/plain": [
       "<Figure size 432x288 with 1 Axes>"
      ]
     },
     "metadata": {},
     "output_type": "display_data"
    },
    {
     "data": {
      "image/png": "[encoded data removed]",
      "text/plain": [
       "<Figure size 432x288 with 1 Axes>"
      ]
     },
     "metadata": {},
     "output_type": "display_data"
    }
   ],
   "source": [
    "import matplotlib.pyplot as plt\n",
    "# summarize history for accuracy\n",
    "plt.plot(history.history['acc'])\n",
    "plt.plot(history.history['val_acc'])\n",
    "plt.title('model accuracy')\n",
    "plt.ylabel('accuracy')\n",
    "plt.xlabel('epoch')\n",
    "plt.legend(['train', 'test'], loc='upper left')\n",
    "plt.show()\n",
    "# summarize history for loss\n",
    "plt.plot(history.history['loss'])\n",
    "plt.plot(history.history['val_loss'])\n",
    "plt.title('model loss')\n",
    "plt.ylabel('loss')\n",
    "plt.xlabel('epoch')\n",
    "plt.legend(['train', 'test'], loc='upper left')\n",
    "plt.show()\n"
   ]
  },
  {
   "cell_type": "code",
   "execution_count": null,
   "metadata": {},
   "outputs": [],
   "source": []
  },
  {
   "cell_type": "code",
   "execution_count": null,
   "metadata": {},
   "outputs": [],
   "source": []
  }
 ],
 "metadata": {
  "kernelspec": {
   "display_name": "Environment (conda_tensorflow_p36)",
   "language": "python",
   "name": "conda_tensorflow_p36"
  },
  "language_info": {
   "codemirror_mode": {
    "name": "ipython",
    "version": 3
   },
   "file_extension": ".py",
   "mimetype": "text/x-python",
   "name": "python",
   "nbconvert_exporter": "python",
   "pygments_lexer": "ipython3",
   "version": "3.6.5"
  }
 },
 "nbformat": 4,
 "nbformat_minor": 2
}
