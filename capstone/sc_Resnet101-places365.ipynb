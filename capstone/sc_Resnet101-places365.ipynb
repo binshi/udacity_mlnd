{
 "cells": [
  {
   "cell_type": "code",
   "execution_count": 2,
   "metadata": {},
   "outputs": [],
   "source": [
    "import numpy as np\n",
    "import pandas as pd\n",
    "from glob import glob\n",
    "import os\n",
    "os.environ['TF_CPP_MIN_LOG_LEVEL']='3'\n",
    "import tensorflow as tf\n",
    "train = pd.read_csv(\"../../scene-classification/train.csv\")"
   ]
  },
  {
   "cell_type": "code",
   "execution_count": 3,
   "metadata": {},
   "outputs": [
    {
     "name": "stderr",
     "output_type": "stream",
     "text": [
      "Using TensorFlow backend.\n"
     ]
    }
   ],
   "source": [
    "from keras.preprocessing import image\n",
    "\n",
    "train_image = []\n",
    "for i in range(train.shape[0]):\n",
    "#     print(train['image_name'][i])\n",
    "    img = image.load_img('../../scene-classification/train/'+train['image_name'][i], target_size=(150,150,3))\n",
    "    img = image.img_to_array(img)\n",
    "    img = img/255\n",
    "    train_image.append(img)\n",
    "X = np.array(train_image)"
   ]
  },
  {
   "cell_type": "code",
   "execution_count": 4,
   "metadata": {},
   "outputs": [],
   "source": [
    "from keras.utils import to_categorical\n",
    "y=train['label'].values\n",
    "y = to_categorical(y)"
   ]
  },
  {
   "cell_type": "code",
   "execution_count": 5,
   "metadata": {},
   "outputs": [
    {
     "name": "stdout",
     "output_type": "stream",
     "text": [
      "x_train shape: (10901, 150, 150, 3)\n",
      "10901 train samples\n",
      "3407 test samples\n",
      "2726 validation samples\n"
     ]
    }
   ],
   "source": [
    "from sklearn.model_selection import train_test_split\n",
    "x_train, x_test, y_train, y_test = train_test_split(X, y, random_state=42, test_size=0.2)\n",
    "x_train, x_valid, y_train, y_valid = train_test_split(x_train, y_train, test_size=0.2, random_state=1)\n",
    "\n",
    "# print shape of training set\n",
    "print('x_train shape:', x_train.shape)\n",
    "# print number of training, validation, and test images\n",
    "print(x_train.shape[0], 'train samples')\n",
    "print(x_test.shape[0], 'test samples')\n",
    "print(x_valid.shape[0], 'validation samples')"
   ]
  },
  {
   "cell_type": "code",
   "execution_count": 6,
   "metadata": {},
   "outputs": [],
   "source": [
    "from keras.applications.vgg16 import VGG16\n",
    "# vgg_conv = VGG16(weights = 'imagenet',include_top = False,input_shape = (150,150,3))\n",
    "# vgg_conv = VGG16(weights = '../../model_weights/vgg16-places365_weights_tf_dim_ordering_tf_kernels_notop.h5',\n",
    "#                  include_top = True,input_shape = (150,150,3))"
   ]
  },
  {
   "cell_type": "code",
   "execution_count": 7,
   "metadata": {},
   "outputs": [],
   "source": [
    "# vgg_conv.summary()"
   ]
  },
  {
   "cell_type": "code",
   "execution_count": 8,
   "metadata": {},
   "outputs": [],
   "source": [
    "import tensorflow as tf\n",
    "# print(tf.__version__)\n",
    "\n",
    "# for layer in vgg_conv.layers[8:]:\n",
    "#     layer.trainable = True\n",
    "\n",
    "# for layer in vgg_conv.layers:\n",
    "#     print(layer,layer.trainable)"
   ]
  },
  {
   "cell_type": "code",
   "execution_count": 9,
   "metadata": {},
   "outputs": [
    {
     "name": "stderr",
     "output_type": "stream",
     "text": [
      "WARNING: Logging before flag parsing goes to stderr.\n",
      "W1003 07:28:18.794724 140717704537856 deprecation_wrapper.py:119] From /home/ubuntu/anaconda3/envs/tensorflow_p36/lib/python3.6/site-packages/keras/backend/tensorflow_backend.py:74: The name tf.get_default_graph is deprecated. Please use tf.compat.v1.get_default_graph instead.\n",
      "\n",
      "W1003 07:28:18.814189 140717704537856 deprecation_wrapper.py:119] From /home/ubuntu/anaconda3/envs/tensorflow_p36/lib/python3.6/site-packages/keras/backend/tensorflow_backend.py:517: The name tf.placeholder is deprecated. Please use tf.compat.v1.placeholder instead.\n",
      "\n",
      "W1003 07:28:18.825285 140717704537856 deprecation_wrapper.py:119] From /home/ubuntu/anaconda3/envs/tensorflow_p36/lib/python3.6/site-packages/keras/backend/tensorflow_backend.py:4138: The name tf.random_uniform is deprecated. Please use tf.random.uniform instead.\n",
      "\n",
      "W1003 07:28:18.866037 140717704537856 deprecation_wrapper.py:119] From /home/ubuntu/anaconda3/envs/tensorflow_p36/lib/python3.6/site-packages/keras/backend/tensorflow_backend.py:133: The name tf.placeholder_with_default is deprecated. Please use tf.compat.v1.placeholder_with_default instead.\n",
      "\n",
      "W1003 07:28:18.874707 140717704537856 deprecation.py:506] From /home/ubuntu/anaconda3/envs/tensorflow_p36/lib/python3.6/site-packages/keras/backend/tensorflow_backend.py:3445: calling dropout (from tensorflow.python.ops.nn_ops) with keep_prob is deprecated and will be removed in a future version.\n",
      "Instructions for updating:\n",
      "Please use `rate` instead of `keep_prob`. Rate should be set to `rate = 1 - keep_prob`.\n"
     ]
    },
    {
     "name": "stdout",
     "output_type": "stream",
     "text": [
      "_________________________________________________________________\n",
      "Layer (type)                 Output Shape              Param #   \n",
      "=================================================================\n",
      "flatten_1 (Flatten)          (None, 67500)             0         \n",
      "_________________________________________________________________\n",
      "dense_1 (Dense)              (None, 256)               17280256  \n",
      "_________________________________________________________________\n",
      "dense_2 (Dense)              (None, 512)               131584    \n",
      "_________________________________________________________________\n",
      "dense_3 (Dense)              (None, 512)               262656    \n",
      "_________________________________________________________________\n",
      "dropout_1 (Dropout)          (None, 512)               0         \n",
      "_________________________________________________________________\n",
      "dense_4 (Dense)              (None, 6)                 3078      \n",
      "=================================================================\n",
      "Total params: 17,677,574\n",
      "Trainable params: 17,677,574\n",
      "Non-trainable params: 0\n",
      "_________________________________________________________________\n"
     ]
    }
   ],
   "source": [
    "from keras import models,layers,optimizers\n",
    "model_vgg = models.Sequential()\n",
    "# model_vgg.add(vgg_conv)\n",
    "# model_vgg.add(layers.Flatten())\n",
    "model_vgg.add(layers.Flatten(input_shape=(150,150,3)))\n",
    "model_vgg.add(layers.Dense(256, activation='relu', input_dim=(150*150*3)))\n",
    "model_vgg.add(layers.Dense(512,  activation='relu'))\n",
    "model_vgg.add(layers.Dense(512,  activation='relu'))\n",
    "model_vgg.add(layers.Dropout(0.4))\n",
    "model_vgg.add(layers.Dense(6,activation = 'softmax'))\n",
    "model_vgg.load_weights('../../model_weights/resnet101_weights_tf_dim_ordering_tf_kernels_notop.h5', by_name=True)\n",
    "model_vgg.summary()"
   ]
  },
  {
   "cell_type": "code",
   "execution_count": 10,
   "metadata": {},
   "outputs": [
    {
     "name": "stderr",
     "output_type": "stream",
     "text": [
      "W1003 07:28:19.285143 140717704537856 deprecation_wrapper.py:119] From /home/ubuntu/anaconda3/envs/tensorflow_p36/lib/python3.6/site-packages/keras/optimizers.py:790: The name tf.train.Optimizer is deprecated. Please use tf.compat.v1.train.Optimizer instead.\n",
      "\n",
      "W1003 07:28:19.293659 140717704537856 deprecation_wrapper.py:119] From /home/ubuntu/anaconda3/envs/tensorflow_p36/lib/python3.6/site-packages/keras/backend/tensorflow_backend.py:3295: The name tf.log is deprecated. Please use tf.math.log instead.\n",
      "\n"
     ]
    }
   ],
   "source": [
    "# model_vgg.compile(loss='categorical_crossentropy',optimizer = optimizers.RMSprop(lr=1e-4),metrics=['acc'])\n",
    "model_vgg.compile(optimizer=optimizers.Adam(lr=0.0001),loss='categorical_crossentropy',metrics=['accuracy'])"
   ]
  },
  {
   "cell_type": "code",
   "execution_count": 11,
   "metadata": {},
   "outputs": [
    {
     "name": "stderr",
     "output_type": "stream",
     "text": [
      "W1003 07:28:19.404067 140717704537856 deprecation.py:323] From /home/ubuntu/anaconda3/envs/tensorflow_p36/lib/python3.6/site-packages/tensorflow/python/ops/math_grad.py:1250: add_dispatch_support.<locals>.wrapper (from tensorflow.python.ops.array_ops) is deprecated and will be removed in a future version.\n",
      "Instructions for updating:\n",
      "Use tf.where in 2.0, which has the same broadcast rule as np.where\n"
     ]
    },
    {
     "name": "stdout",
     "output_type": "stream",
     "text": [
      "Train on 10901 samples, validate on 2726 samples\n",
      "Epoch 1/20\n",
      "10901/10901 [==============================] - 21s 2ms/step - loss: 1.5090 - acc: 0.4069 - val_loss: 1.3307 - val_acc: 0.4857\n",
      "Epoch 2/20\n",
      "10901/10901 [==============================] - 19s 2ms/step - loss: 1.3283 - acc: 0.4773 - val_loss: 1.2388 - val_acc: 0.5110\n",
      "Epoch 3/20\n",
      "10901/10901 [==============================] - 19s 2ms/step - loss: 1.2430 - acc: 0.5195 - val_loss: 1.2287 - val_acc: 0.5249\n",
      "Epoch 4/20\n",
      "10901/10901 [==============================] - 19s 2ms/step - loss: 1.2055 - acc: 0.5291 - val_loss: 1.2017 - val_acc: 0.5547\n",
      "Epoch 5/20\n",
      "10901/10901 [==============================] - 19s 2ms/step - loss: 1.1546 - acc: 0.5644 - val_loss: 1.1141 - val_acc: 0.5756\n",
      "Epoch 6/20\n",
      "10901/10901 [==============================] - 19s 2ms/step - loss: 1.1213 - acc: 0.5716 - val_loss: 1.1393 - val_acc: 0.5745\n",
      "Epoch 7/20\n",
      "10901/10901 [==============================] - 19s 2ms/step - loss: 1.0879 - acc: 0.5875 - val_loss: 1.1319 - val_acc: 0.5598\n",
      "Epoch 8/20\n",
      "10901/10901 [==============================] - 19s 2ms/step - loss: 1.0638 - acc: 0.5921 - val_loss: 1.1159 - val_acc: 0.5792\n",
      "Epoch 9/20\n",
      "10901/10901 [==============================] - 19s 2ms/step - loss: 1.0387 - acc: 0.6046 - val_loss: 1.1923 - val_acc: 0.5550\n",
      "Epoch 10/20\n",
      "10901/10901 [==============================] - 19s 2ms/step - loss: 1.0001 - acc: 0.6223 - val_loss: 1.1556 - val_acc: 0.5697\n",
      "Epoch 11/20\n",
      "10901/10901 [==============================] - 19s 2ms/step - loss: 0.9797 - acc: 0.6293 - val_loss: 1.2123 - val_acc: 0.5404\n",
      "Epoch 12/20\n",
      "10901/10901 [==============================] - 19s 2ms/step - loss: 0.9573 - acc: 0.6389 - val_loss: 1.1117 - val_acc: 0.5774\n",
      "Epoch 13/20\n",
      "10901/10901 [==============================] - 19s 2ms/step - loss: 0.9270 - acc: 0.6535 - val_loss: 1.2014 - val_acc: 0.5627\n",
      "Epoch 14/20\n",
      "10901/10901 [==============================] - 19s 2ms/step - loss: 0.9155 - acc: 0.6540 - val_loss: 1.1203 - val_acc: 0.5800\n",
      "Epoch 15/20\n",
      "10901/10901 [==============================] - 19s 2ms/step - loss: 0.8888 - acc: 0.6649 - val_loss: 1.1804 - val_acc: 0.5752\n",
      "Epoch 16/20\n",
      "10901/10901 [==============================] - 19s 2ms/step - loss: 0.8595 - acc: 0.6788 - val_loss: 1.1182 - val_acc: 0.5847\n",
      "Epoch 17/20\n",
      "10901/10901 [==============================] - 19s 2ms/step - loss: 0.8484 - acc: 0.6849 - val_loss: 1.1258 - val_acc: 0.5862\n",
      "Epoch 18/20\n",
      "10901/10901 [==============================] - 19s 2ms/step - loss: 0.8060 - acc: 0.6977 - val_loss: 1.1737 - val_acc: 0.5770\n",
      "Epoch 19/20\n",
      "10901/10901 [==============================] - 19s 2ms/step - loss: 0.7966 - acc: 0.7061 - val_loss: 1.1431 - val_acc: 0.6020\n",
      "Epoch 20/20\n",
      "10901/10901 [==============================] - 19s 2ms/step - loss: 0.7738 - acc: 0.7109 - val_loss: 1.2293 - val_acc: 0.5789\n"
     ]
    }
   ],
   "source": [
    "from keras.callbacks import ModelCheckpoint, EarlyStopping   \n",
    "\n",
    "# train the model\n",
    "# checkpointer = ModelCheckpoint(filepath='model.weights.best.hdf5', verbose=1, save_best_only=True)\n",
    "earlystopping = EarlyStopping(monitor='loss', patience=3)\n",
    "history = model_vgg.fit(x_train, y_train, batch_size=16, epochs=20, validation_data=(x_valid, y_valid), verbose=1, shuffle=True, callbacks=[earlystopping])\n"
   ]
  },
  {
   "cell_type": "code",
   "execution_count": 12,
   "metadata": {
    "collapsed": true
   },
   "outputs": [],
   "source": [
    "model_vgg.save(\"../../model_weights/resnet101-places365.h5\")"
   ]
  },
  {
   "cell_type": "code",
   "execution_count": 13,
   "metadata": {
    "collapsed": true
   },
   "outputs": [
    {
     "name": "stdout",
     "output_type": "stream",
     "text": [
      "\n",
      " Test accuracy: 0.5653067214645736\n"
     ]
    }
   ],
   "source": [
    "# evaluate and print test accuracy\n",
    "score = model_vgg.evaluate(x_test, y_test, verbose=0)\n",
    "print('\\n', 'Test accuracy:', score[1])"
   ]
  },
  {
   "cell_type": "code",
   "execution_count": 14,
   "metadata": {
    "collapsed": true
   },
   "outputs": [],
   "source": [
    "# get predictions on the test set\n",
    "y_hat = model_vgg.predict(x_test)\n",
    "\n",
    "# define text labels (source: https://www.cs.toronto.edu/~kriz/cifar.html)\n",
    "classification_labels = ['buildings', 'forest', 'glacier', 'mountain', 'sea', 'street']"
   ]
  },
  {
   "cell_type": "code",
   "execution_count": 15,
   "metadata": {
    "collapsed": true
   },
   "outputs": [],
   "source": [
    "import matplotlib.pyplot as plt\n",
    "# plot a random sample of test images, their predicted labels, and ground truth\n",
    "fig = plt.figure(figsize=(20, 8))\n",
    "for i, idx in enumerate(np.random.choice(x_test.shape[0], size=32, replace=False)):\n",
    "    ax = fig.add_subplot(4, 8, i + 1, xticks=[], yticks=[])\n",
    "    ax.imshow(np.squeeze(x_test[idx]))\n",
    "    pred_idx = np.argmax(y_hat[idx])\n",
    "    true_idx = np.argmax(y_test[idx])\n",
    "    ax.set_title(\"{} ({})\".format(classification_labels[pred_idx], classification_labels[true_idx]),\n",
    "                 color=(\"green\" if pred_idx == true_idx else \"red\"))"
   ]
  },
  {
   "cell_type": "code",
   "execution_count": 16,
   "metadata": {
    "collapsed": true
   },
   "outputs": [
    {
     "data": {
      "image/png": "[encoded data removed]",
      "text/plain": [
       "<Figure size 432x288 with 1 Axes>"
      ]
     },
     "metadata": {},
     "output_type": "display_data"
    },
    {
     "data": {
      "image/png": "[encoded data removed]",
      "text/plain": [
       "<Figure size 432x288 with 1 Axes>"
      ]
     },
     "metadata": {},
     "output_type": "display_data"
    }
   ],
   "source": [
    "# summarize history for accuracy\n",
    "plt.plot(history.history['acc'])\n",
    "plt.plot(history.history['val_acc'])\n",
    "plt.title('model accuracy')\n",
    "plt.ylabel('accuracy')\n",
    "plt.xlabel('epoch')\n",
    "plt.legend(['train', 'test'], loc='upper left')\n",
    "plt.show()\n",
    "# summarize history for loss\n",
    "plt.plot(history.history['loss'])\n",
    "plt.plot(history.history['val_loss'])\n",
    "plt.title('model loss')\n",
    "plt.ylabel('loss')\n",
    "plt.xlabel('epoch')\n",
    "plt.legend(['train', 'test'], loc='upper left')\n",
    "plt.show()"
   ]
  },
  {
   "cell_type": "code",
   "execution_count": null,
   "metadata": {
    "collapsed": true
   },
   "outputs": [],
   "source": []
  },
  {
   "cell_type": "code",
   "execution_count": null,
   "metadata": {},
   "outputs": [],
   "source": []
  },
  {
   "cell_type": "code",
   "execution_count": null,
   "metadata": {},
   "outputs": [],
   "source": []
  },
  {
   "cell_type": "code",
   "execution_count": null,
   "metadata": {},
   "outputs": [],
   "source": []
  }
 ],
 "metadata": {
  "kernelspec": {
   "display_name": "Environment (conda_tensorflow_p36)",
   "language": "python",
   "name": "conda_tensorflow_p36"
  },
  "language_info": {
   "codemirror_mode": {
    "name": "ipython",
    "version": 3
   },
   "file_extension": ".py",
   "mimetype": "text/x-python",
   "name": "python",
   "nbconvert_exporter": "python",
   "pygments_lexer": "ipython3",
   "version": "3.6.5"
  }
 },
 "nbformat": 4,
 "nbformat_minor": 2
}
