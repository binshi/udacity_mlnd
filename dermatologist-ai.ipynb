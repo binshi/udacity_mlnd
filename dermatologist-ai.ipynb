{
 "cells": [
  {
   "cell_type": "code",
   "execution_count": 7,
   "metadata": {},
   "outputs": [],
   "source": [
    "from sklearn.datasets import load_files\n",
    "from keras.utils import np_utils\n",
    "import numpy as np\n",
    "\n",
    "def load_dataset(path):\n",
    "    data = load_files(path)\n",
    "    paths = np.array(data['filenames'])\n",
    "    targets = np_utils.to_categorical(np.array(data['target']))\n",
    "    return paths, targets"
   ]
  },
  {
   "cell_type": "code",
   "execution_count": 8,
   "metadata": {},
   "outputs": [],
   "source": [
    "train_files, train_targets = load_dataset('data/train')\n",
    "valid_files, valid_targets = load_dataset('data/valid')\n",
    "test_files, test_targets = load_dataset('data/test')"
   ]
  },
  {
   "cell_type": "code",
   "execution_count": 9,
   "metadata": {},
   "outputs": [
    {
     "name": "stdout",
     "output_type": "stream",
     "text": [
      "There are 3 classes: melanoma, nevus, seborrheic_keratosis.\n",
      "There are 2000 training images.\n",
      "There are 150 validation images.\n",
      "There are 594 testing images.\n"
     ]
    }
   ],
   "source": [
    "from os import listdir\n",
    "\n",
    "diseases = sorted(listdir('data/train'))\n",
    "\n",
    "print('There are {} classes: {}.'.format(len(diseases), ', '.join(diseases)))\n",
    "print('There are {} training images.'.format(len(train_files)))\n",
    "print('There are {} validation images.'.format(len(valid_files)))\n",
    "print('There are {} testing images.'.format(len(test_files)))"
   ]
  },
  {
   "cell_type": "code",
   "execution_count": 10,
   "metadata": {},
   "outputs": [],
   "source": [
    "from keras.preprocessing import image\n",
    "from tqdm import tqdm_notebook\n",
    "\n",
    "def get_tensor(path):\n",
    "#     print(path)\n",
    "    img = image.load_img(path, target_size=(224, 224))\n",
    "    return np.expand_dims(image.img_to_array(img), axis=0)\n",
    "\n",
    "def get_tensors(paths):\n",
    "    return np.vstack([get_tensor(path) for path in tqdm_notebook(paths)])"
   ]
  },
  {
   "cell_type": "code",
   "execution_count": 11,
   "metadata": {},
   "outputs": [
    {
     "data": {
      "application/vnd.jupyter.widget-view+json": {
       "model_id": "452cbe17277c4ee990424106d4241c56"
      }
     },
     "metadata": {},
     "output_type": "display_data"
    },
    {
     "name": "stdout",
     "output_type": "stream",
     "text": [
      "\n"
     ]
    },
    {
     "data": {
      "application/vnd.jupyter.widget-view+json": {
       "model_id": "813db0686a0845afa3c35b5467b64e06"
      }
     },
     "metadata": {},
     "output_type": "display_data"
    },
    {
     "name": "stdout",
     "output_type": "stream",
     "text": [
      "\n"
     ]
    }
   ],
   "source": [
    "from keras.applications.resnet50 import preprocess_input\n",
    "\n",
    "train_tensors = preprocess_input(get_tensors(train_files))\n",
    "valid_tensors = preprocess_input(get_tensors(valid_files))"
   ]
  },
  {
   "cell_type": "code",
   "execution_count": 12,
   "metadata": {},
   "outputs": [
    {
     "data": {
      "application/vnd.jupyter.widget-view+json": {
       "model_id": "2ccd4ef7db0c43b08fa7c1d6ff4eabc3"
      }
     },
     "metadata": {},
     "output_type": "display_data"
    },
    {
     "name": "stdout",
     "output_type": "stream",
     "text": [
      "\n"
     ]
    }
   ],
   "source": [
    "test_tensors = preprocess_input(get_tensors(test_files))"
   ]
  },
  {
   "cell_type": "code",
   "execution_count": 13,
   "metadata": {},
   "outputs": [],
   "source": [
    "from keras.applications.resnet50 import ResNet50\n",
    "resnet50 = ResNet50(include_top=False, input_shape=(224, 224, 3))"
   ]
  },
  {
   "cell_type": "code",
   "execution_count": 14,
   "metadata": {},
   "outputs": [],
   "source": [
    "train_bottleneck = resnet50.predict(train_tensors, batch_size=1)\n",
    "valid_bottleneck = resnet50.predict(valid_tensors, batch_size=1)\n",
    "test_bottleneck = resnet50.predict(test_tensors, batch_size=1)"
   ]
  },
  {
   "cell_type": "code",
   "execution_count": 15,
   "metadata": {},
   "outputs": [
    {
     "name": "stdout",
     "output_type": "stream",
     "text": [
      "_________________________________________________________________\n",
      "Layer (type)                 Output Shape              Param #   \n",
      "=================================================================\n",
      "global_average_pooling2d_1 ( (None, 2048)              0         \n",
      "_________________________________________________________________\n",
      "dropout_1 (Dropout)          (None, 2048)              0         \n",
      "_________________________________________________________________\n",
      "dense_1 (Dense)              (None, 2048)              4196352   \n",
      "_________________________________________________________________\n",
      "dropout_2 (Dropout)          (None, 2048)              0         \n",
      "_________________________________________________________________\n",
      "dense_2 (Dense)              (None, 2048)              4196352   \n",
      "_________________________________________________________________\n",
      "dense_3 (Dense)              (None, 3)                 6147      \n",
      "=================================================================\n",
      "Total params: 8,398,851.0\n",
      "Trainable params: 8,398,851.0\n",
      "Non-trainable params: 0.0\n",
      "_________________________________________________________________\n"
     ]
    }
   ],
   "source": [
    "from keras.layers import GlobalAveragePooling2D, Dense, Dropout\n",
    "from keras.models import Sequential\n",
    "\n",
    "model = Sequential()\n",
    "model.add(GlobalAveragePooling2D(input_shape=train_bottleneck.shape[1:]))\n",
    "model.add(Dropout(0.5))\n",
    "model.add(Dense(2048, activation='tanh'))\n",
    "model.add(Dropout(0.5))\n",
    "model.add(Dense(2048, activation='tanh'))\n",
    "model.add(Dense(3, activation='softmax'))\n",
    "model.summary()"
   ]
  },
  {
   "cell_type": "code",
   "execution_count": 16,
   "metadata": {},
   "outputs": [],
   "source": [
    "from keras import optimizers\n",
    "model.compile(loss='categorical_crossentropy', metrics = ['accuracy'], optimizer = optimizers.SGD(lr=0.0001, momentum=0.9, decay=1e-6))"
   ]
  },
  {
   "cell_type": "code",
   "execution_count": 17,
   "metadata": {},
   "outputs": [
    {
     "name": "stdout",
     "output_type": "stream",
     "text": [
      "Train on 2000 samples, validate on 150 samples\n",
      "Epoch 1/100\n",
      "2000/2000 [==============================] - 2s - loss: 0.8989 - acc: 0.6295 - val_loss: 1.3123 - val_acc: 0.5267\n",
      "Epoch 2/100\n",
      "2000/2000 [==============================] - 2s - loss: 0.7948 - acc: 0.6695 - val_loss: 1.2380 - val_acc: 0.5400\n",
      "Epoch 3/100\n",
      "2000/2000 [==============================] - 2s - loss: 0.7742 - acc: 0.6785 - val_loss: 0.9695 - val_acc: 0.6133\n",
      "Epoch 4/100\n",
      "2000/2000 [==============================] - 2s - loss: 0.7351 - acc: 0.6875 - val_loss: 0.8610 - val_acc: 0.6800\n",
      "Epoch 5/100\n",
      "2000/2000 [==============================] - 2s - loss: 0.7320 - acc: 0.6940 - val_loss: 0.8392 - val_acc: 0.6867\n",
      "Epoch 6/100\n",
      "2000/2000 [==============================] - 2s - loss: 0.6983 - acc: 0.7115 - val_loss: 0.8748 - val_acc: 0.6867\n",
      "Epoch 7/100\n",
      "2000/2000 [==============================] - 2s - loss: 0.6987 - acc: 0.7025 - val_loss: 0.8809 - val_acc: 0.6733\n",
      "Epoch 8/100\n",
      "2000/2000 [==============================] - 2s - loss: 0.6951 - acc: 0.7130 - val_loss: 0.9638 - val_acc: 0.6400\n",
      "Epoch 9/100\n",
      "2000/2000 [==============================] - 2s - loss: 0.6777 - acc: 0.7115 - val_loss: 0.9020 - val_acc: 0.6467\n",
      "Epoch 10/100\n",
      "2000/2000 [==============================] - 2s - loss: 0.6711 - acc: 0.7110 - val_loss: 0.8561 - val_acc: 0.6733\n",
      "Epoch 11/100\n",
      "2000/2000 [==============================] - 2s - loss: 0.7078 - acc: 0.7005 - val_loss: 0.9806 - val_acc: 0.6333\n",
      "Epoch 12/100\n",
      "2000/2000 [==============================] - 1s - loss: 0.6535 - acc: 0.7280 - val_loss: 0.8472 - val_acc: 0.6867\n",
      "Epoch 13/100\n",
      "2000/2000 [==============================] - 2s - loss: 0.6584 - acc: 0.7165 - val_loss: 0.8352 - val_acc: 0.6867\n",
      "Epoch 14/100\n",
      "2000/2000 [==============================] - 2s - loss: 0.6459 - acc: 0.7270 - val_loss: 1.0110 - val_acc: 0.6400\n",
      "Epoch 15/100\n",
      "2000/2000 [==============================] - 2s - loss: 0.6578 - acc: 0.7215 - val_loss: 0.8572 - val_acc: 0.6733\n",
      "Epoch 16/100\n",
      "2000/2000 [==============================] - 2s - loss: 0.6514 - acc: 0.7240 - val_loss: 0.8821 - val_acc: 0.6867\n",
      "Epoch 17/100\n",
      "2000/2000 [==============================] - 2s - loss: 0.6487 - acc: 0.7245 - val_loss: 0.7849 - val_acc: 0.6800\n",
      "Epoch 18/100\n",
      "2000/2000 [==============================] - 2s - loss: 0.6453 - acc: 0.7280 - val_loss: 0.8904 - val_acc: 0.6733\n",
      "Epoch 19/100\n",
      "2000/2000 [==============================] - 2s - loss: 0.6270 - acc: 0.7405 - val_loss: 0.8069 - val_acc: 0.6733\n",
      "Epoch 20/100\n",
      "2000/2000 [==============================] - 2s - loss: 0.6542 - acc: 0.7185 - val_loss: 0.8920 - val_acc: 0.6733\n",
      "Epoch 21/100\n",
      "2000/2000 [==============================] - 2s - loss: 0.6478 - acc: 0.7210 - val_loss: 0.7565 - val_acc: 0.7000\n",
      "Epoch 22/100\n",
      "2000/2000 [==============================] - 2s - loss: 0.6519 - acc: 0.7135 - val_loss: 0.9285 - val_acc: 0.6600\n",
      "Epoch 23/100\n",
      "2000/2000 [==============================] - 2s - loss: 0.6412 - acc: 0.7325 - val_loss: 0.8146 - val_acc: 0.7133\n",
      "Epoch 24/100\n",
      "2000/2000 [==============================] - 2s - loss: 0.6233 - acc: 0.7250 - val_loss: 0.8077 - val_acc: 0.7133\n",
      "Epoch 25/100\n",
      "2000/2000 [==============================] - 2s - loss: 0.6384 - acc: 0.7230 - val_loss: 0.8912 - val_acc: 0.6933\n",
      "Epoch 26/100\n",
      "2000/2000 [==============================] - 2s - loss: 0.6218 - acc: 0.7280 - val_loss: 0.8323 - val_acc: 0.7067\n",
      "Epoch 27/100\n",
      "2000/2000 [==============================] - 2s - loss: 0.6249 - acc: 0.7295 - val_loss: 0.8408 - val_acc: 0.6933\n",
      "Epoch 28/100\n",
      "2000/2000 [==============================] - 2s - loss: 0.6228 - acc: 0.7355 - val_loss: 0.7670 - val_acc: 0.7200\n",
      "Epoch 29/100\n",
      "2000/2000 [==============================] - 2s - loss: 0.6276 - acc: 0.7255 - val_loss: 0.8182 - val_acc: 0.7067\n",
      "Epoch 30/100\n",
      "2000/2000 [==============================] - 2s - loss: 0.6286 - acc: 0.7265 - val_loss: 0.8084 - val_acc: 0.7067\n",
      "Epoch 31/100\n",
      "2000/2000 [==============================] - 1s - loss: 0.6222 - acc: 0.7275 - val_loss: 0.8215 - val_acc: 0.7067\n",
      "Epoch 32/100\n",
      "2000/2000 [==============================] - 2s - loss: 0.6373 - acc: 0.7290 - val_loss: 0.7541 - val_acc: 0.7000\n",
      "Epoch 33/100\n",
      "2000/2000 [==============================] - 2s - loss: 0.6476 - acc: 0.7205 - val_loss: 0.8446 - val_acc: 0.6800\n",
      "Epoch 34/100\n",
      "2000/2000 [==============================] - 2s - loss: 0.6100 - acc: 0.7405 - val_loss: 0.8863 - val_acc: 0.6667\n",
      "Epoch 35/100\n",
      "2000/2000 [==============================] - 2s - loss: 0.6067 - acc: 0.7380 - val_loss: 0.8418 - val_acc: 0.6800\n",
      "Epoch 36/100\n",
      "2000/2000 [==============================] - 2s - loss: 0.6215 - acc: 0.7290 - val_loss: 0.8967 - val_acc: 0.6800\n",
      "Epoch 37/100\n",
      "2000/2000 [==============================] - 2s - loss: 0.6036 - acc: 0.7510 - val_loss: 0.7907 - val_acc: 0.7067\n",
      "Epoch 38/100\n",
      "2000/2000 [==============================] - 2s - loss: 0.6053 - acc: 0.7460 - val_loss: 0.9504 - val_acc: 0.6667\n",
      "Epoch 39/100\n",
      "2000/2000 [==============================] - 2s - loss: 0.6141 - acc: 0.7365 - val_loss: 0.7864 - val_acc: 0.6933\n",
      "Epoch 40/100\n",
      "2000/2000 [==============================] - 2s - loss: 0.6065 - acc: 0.7375 - val_loss: 0.7891 - val_acc: 0.7067\n",
      "Epoch 41/100\n",
      "2000/2000 [==============================] - 2s - loss: 0.5988 - acc: 0.7470 - val_loss: 0.8153 - val_acc: 0.6667\n",
      "Epoch 42/100\n",
      "2000/2000 [==============================] - 1s - loss: 0.6008 - acc: 0.7520 - val_loss: 0.8305 - val_acc: 0.6667\n",
      "Epoch 43/100\n",
      "2000/2000 [==============================] - 2s - loss: 0.6019 - acc: 0.7375 - val_loss: 0.8282 - val_acc: 0.6867\n",
      "Epoch 44/100\n",
      "2000/2000 [==============================] - 2s - loss: 0.6087 - acc: 0.7380 - val_loss: 0.7559 - val_acc: 0.7133\n",
      "Epoch 45/100\n",
      "2000/2000 [==============================] - 2s - loss: 0.6148 - acc: 0.7425 - val_loss: 0.7524 - val_acc: 0.7000\n",
      "Epoch 46/100\n",
      "2000/2000 [==============================] - 2s - loss: 0.5996 - acc: 0.7435 - val_loss: 0.7805 - val_acc: 0.6867\n",
      "Epoch 47/100\n",
      "2000/2000 [==============================] - 2s - loss: 0.6050 - acc: 0.7405 - val_loss: 0.8104 - val_acc: 0.7133\n",
      "Epoch 48/100\n",
      "2000/2000 [==============================] - 1s - loss: 0.6032 - acc: 0.7450 - val_loss: 0.8509 - val_acc: 0.6800\n",
      "Epoch 49/100\n",
      "2000/2000 [==============================] - 2s - loss: 0.5948 - acc: 0.7530 - val_loss: 0.8204 - val_acc: 0.6800\n",
      "Epoch 50/100\n",
      "2000/2000 [==============================] - 2s - loss: 0.6056 - acc: 0.7290 - val_loss: 0.7752 - val_acc: 0.7000\n",
      "Epoch 51/100\n",
      "2000/2000 [==============================] - 2s - loss: 0.5942 - acc: 0.7425 - val_loss: 0.8377 - val_acc: 0.6867\n",
      "Epoch 52/100\n",
      "2000/2000 [==============================] - 1s - loss: 0.5844 - acc: 0.7530 - val_loss: 0.8168 - val_acc: 0.7067\n",
      "Epoch 53/100\n",
      "2000/2000 [==============================] - 2s - loss: 0.5878 - acc: 0.7365 - val_loss: 0.7810 - val_acc: 0.6867\n",
      "Epoch 54/100\n",
      "2000/2000 [==============================] - 1s - loss: 0.5930 - acc: 0.7535 - val_loss: 0.7787 - val_acc: 0.6733\n",
      "Epoch 55/100\n",
      "2000/2000 [==============================] - 2s - loss: 0.6078 - acc: 0.7445 - val_loss: 0.7588 - val_acc: 0.7067\n",
      "Epoch 56/100\n",
      "2000/2000 [==============================] - 2s - loss: 0.5980 - acc: 0.7435 - val_loss: 0.7593 - val_acc: 0.6867\n",
      "Epoch 57/100\n",
      "2000/2000 [==============================] - 2s - loss: 0.5780 - acc: 0.7575 - val_loss: 0.7351 - val_acc: 0.7000\n",
      "Epoch 58/100\n",
      "2000/2000 [==============================] - 2s - loss: 0.6113 - acc: 0.7470 - val_loss: 0.7517 - val_acc: 0.6933\n",
      "Epoch 59/100\n",
      "2000/2000 [==============================] - 2s - loss: 0.5909 - acc: 0.7440 - val_loss: 0.7952 - val_acc: 0.6933\n",
      "Epoch 60/100\n",
      "2000/2000 [==============================] - 2s - loss: 0.5929 - acc: 0.7560 - val_loss: 0.7816 - val_acc: 0.7200\n",
      "Epoch 61/100\n",
      "2000/2000 [==============================] - 2s - loss: 0.5929 - acc: 0.7480 - val_loss: 0.7944 - val_acc: 0.7067\n",
      "Epoch 62/100\n",
      "2000/2000 [==============================] - 1s - loss: 0.5747 - acc: 0.7495 - val_loss: 0.8087 - val_acc: 0.7133\n",
      "Epoch 63/100\n",
      "2000/2000 [==============================] - 2s - loss: 0.5967 - acc: 0.7360 - val_loss: 0.7685 - val_acc: 0.7000\n",
      "Epoch 64/100\n",
      "2000/2000 [==============================] - 2s - loss: 0.5933 - acc: 0.7560 - val_loss: 0.7807 - val_acc: 0.7133\n",
      "Epoch 65/100\n"
     ]
    },
    {
     "name": "stdout",
     "output_type": "stream",
     "text": [
      "2000/2000 [==============================] - 2s - loss: 0.5857 - acc: 0.7500 - val_loss: 0.8264 - val_acc: 0.6933\n",
      "Epoch 66/100\n",
      "2000/2000 [==============================] - 2s - loss: 0.5752 - acc: 0.7490 - val_loss: 0.7464 - val_acc: 0.7000\n",
      "Epoch 67/100\n",
      "2000/2000 [==============================] - 2s - loss: 0.5773 - acc: 0.7500 - val_loss: 0.7980 - val_acc: 0.6933\n",
      "Epoch 68/100\n",
      "2000/2000 [==============================] - 2s - loss: 0.5903 - acc: 0.7415 - val_loss: 0.8520 - val_acc: 0.7067\n",
      "Epoch 69/100\n",
      "2000/2000 [==============================] - 2s - loss: 0.5710 - acc: 0.7565 - val_loss: 0.8172 - val_acc: 0.7067\n",
      "Epoch 70/100\n",
      "2000/2000 [==============================] - 2s - loss: 0.5886 - acc: 0.7565 - val_loss: 0.8389 - val_acc: 0.7067\n",
      "Epoch 71/100\n",
      "2000/2000 [==============================] - 1s - loss: 0.5927 - acc: 0.7560 - val_loss: 0.8018 - val_acc: 0.7000\n",
      "Epoch 72/100\n",
      "2000/2000 [==============================] - 2s - loss: 0.5706 - acc: 0.7525 - val_loss: 0.7283 - val_acc: 0.7267\n",
      "Epoch 73/100\n",
      "2000/2000 [==============================] - 2s - loss: 0.6014 - acc: 0.7525 - val_loss: 0.8048 - val_acc: 0.7000\n",
      "Epoch 74/100\n",
      "2000/2000 [==============================] - 2s - loss: 0.5748 - acc: 0.7515 - val_loss: 0.7524 - val_acc: 0.6867\n",
      "Epoch 75/100\n",
      "2000/2000 [==============================] - 2s - loss: 0.5888 - acc: 0.7435 - val_loss: 0.7984 - val_acc: 0.7000\n",
      "Epoch 76/100\n",
      "2000/2000 [==============================] - 2s - loss: 0.5825 - acc: 0.7410 - val_loss: 0.8491 - val_acc: 0.6933\n",
      "Epoch 77/100\n",
      "2000/2000 [==============================] - 2s - loss: 0.5899 - acc: 0.7510 - val_loss: 0.7803 - val_acc: 0.7000\n",
      "Epoch 78/100\n",
      "2000/2000 [==============================] - 2s - loss: 0.5776 - acc: 0.7545 - val_loss: 0.8261 - val_acc: 0.7000\n",
      "Epoch 79/100\n",
      "2000/2000 [==============================] - 2s - loss: 0.5830 - acc: 0.7550 - val_loss: 0.7433 - val_acc: 0.7067\n",
      "Epoch 80/100\n",
      "2000/2000 [==============================] - 2s - loss: 0.5838 - acc: 0.7460 - val_loss: 0.8871 - val_acc: 0.6800\n",
      "Epoch 81/100\n",
      "2000/2000 [==============================] - 2s - loss: 0.5782 - acc: 0.7580 - val_loss: 0.7989 - val_acc: 0.7133\n",
      "Epoch 82/100\n",
      "2000/2000 [==============================] - 2s - loss: 0.5945 - acc: 0.7460 - val_loss: 0.7345 - val_acc: 0.7000\n",
      "Epoch 83/100\n",
      "2000/2000 [==============================] - 2s - loss: 0.5767 - acc: 0.7620 - val_loss: 0.7614 - val_acc: 0.7133\n",
      "Epoch 84/100\n",
      "2000/2000 [==============================] - 2s - loss: 0.5804 - acc: 0.7505 - val_loss: 0.8970 - val_acc: 0.6867\n",
      "Epoch 85/100\n",
      "2000/2000 [==============================] - 1s - loss: 0.5689 - acc: 0.7560 - val_loss: 0.8636 - val_acc: 0.7000\n",
      "Epoch 86/100\n",
      "2000/2000 [==============================] - 2s - loss: 0.5744 - acc: 0.7495 - val_loss: 0.8067 - val_acc: 0.7000\n",
      "Epoch 87/100\n",
      "2000/2000 [==============================] - 2s - loss: 0.5659 - acc: 0.7610 - val_loss: 0.7995 - val_acc: 0.6933\n",
      "Epoch 88/100\n",
      "2000/2000 [==============================] - 1s - loss: 0.5678 - acc: 0.7640 - val_loss: 0.7605 - val_acc: 0.7067\n",
      "Epoch 89/100\n",
      "2000/2000 [==============================] - 2s - loss: 0.5803 - acc: 0.7520 - val_loss: 0.7606 - val_acc: 0.6933\n",
      "Epoch 90/100\n",
      "2000/2000 [==============================] - 1s - loss: 0.5780 - acc: 0.7525 - val_loss: 0.7615 - val_acc: 0.6933\n",
      "Epoch 91/100\n",
      "2000/2000 [==============================] - 2s - loss: 0.5904 - acc: 0.7460 - val_loss: 0.8336 - val_acc: 0.7067\n",
      "Epoch 92/100\n",
      "2000/2000 [==============================] - 2s - loss: 0.5679 - acc: 0.7615 - val_loss: 0.7760 - val_acc: 0.6867\n",
      "Epoch 93/100\n",
      "2000/2000 [==============================] - 2s - loss: 0.5725 - acc: 0.7615 - val_loss: 0.8169 - val_acc: 0.6867\n",
      "Epoch 94/100\n",
      "2000/2000 [==============================] - 1s - loss: 0.5767 - acc: 0.7645 - val_loss: 0.7704 - val_acc: 0.7000\n",
      "Epoch 95/100\n",
      "2000/2000 [==============================] - 2s - loss: 0.5774 - acc: 0.7585 - val_loss: 0.7690 - val_acc: 0.6867\n",
      "Epoch 96/100\n",
      "2000/2000 [==============================] - 1s - loss: 0.5872 - acc: 0.7365 - val_loss: 0.7886 - val_acc: 0.6867\n",
      "Epoch 97/100\n",
      "2000/2000 [==============================] - 1s - loss: 0.5667 - acc: 0.7570 - val_loss: 0.8775 - val_acc: 0.6933\n",
      "Epoch 98/100\n",
      "2000/2000 [==============================] - 2s - loss: 0.5761 - acc: 0.7670 - val_loss: 0.7491 - val_acc: 0.7067\n",
      "Epoch 99/100\n",
      "2000/2000 [==============================] - 2s - loss: 0.5745 - acc: 0.7600 - val_loss: 0.7738 - val_acc: 0.7133\n",
      "Epoch 100/100\n",
      "2000/2000 [==============================] - 2s - loss: 0.5713 - acc: 0.7625 - val_loss: 0.7833 - val_acc: 0.7133\n"
     ]
    }
   ],
   "source": [
    "from keras.callbacks import ModelCheckpoint\n",
    "\n",
    "checkpointer = ModelCheckpoint(filepath='resnet.from.bottleneck.hdf5', save_best_only=True)\n",
    "history = model.fit(train_bottleneck, train_targets, epochs=100,\n",
    "          validation_data=(valid_bottleneck, valid_targets),\n",
    "          callbacks=[checkpointer], verbose=1, shuffle=True, batch_size = 8)"
   ]
  },
  {
   "cell_type": "code",
   "execution_count": 19,
   "metadata": {
    "collapsed": true
   },
   "outputs": [],
   "source": [
    "model.load_weights('resnet.from.bottleneck.hdf5')"
   ]
  },
  {
   "cell_type": "code",
   "execution_count": 20,
   "metadata": {},
   "outputs": [
    {
     "name": "stdout",
     "output_type": "stream",
     "text": [
      "544/594 [==========================>...] - ETA: 0s\n",
      "Testing loss: 0.7021\n",
      "Testing accuracy: 0.7273\n"
     ]
    }
   ],
   "source": [
    "print('\\nTesting loss: {:.4f}\\nTesting accuracy: {:.4f}'.format(*model.evaluate(test_bottleneck, test_targets)))"
   ]
  },
  {
   "cell_type": "code",
   "execution_count": 21,
   "metadata": {},
   "outputs": [
    {
     "data": {
      "image/png": "[encoded data removed]",
      "text/plain": [
       "<matplotlib.figure.Figure at 0x7efea5643b00>"
      ]
     },
     "metadata": {},
     "output_type": "display_data"
    }
   ],
   "source": [
    "import matplotlib.pyplot as plt\n",
    "\n",
    "plt.plot(history.history['loss'], label='Training loss')\n",
    "plt.plot(history.history['val_loss'], label='Validation loss')\n",
    "plt.legend()\n",
    "plt.show()"
   ]
  },
  {
   "cell_type": "code",
   "execution_count": 22,
   "metadata": {},
   "outputs": [
    {
     "name": "stdout",
     "output_type": "stream",
     "text": [
      "AUC for melanoma: 0.7606\n",
      "AUC for nevus: 0.8494\n",
      "AUC for seborrheic_keratosis: 0.9004\n"
     ]
    },
    {
     "data": {
      "image/png": "[encoded data removed]",
      "text/plain": [
       "<matplotlib.figure.Figure at 0x7efea5692438>"
      ]
     },
     "metadata": {},
     "output_type": "display_data"
    }
   ],
   "source": [
    "from sklearn.metrics import roc_curve, auc\n",
    "\n",
    "for i in range(len(diseases)):\n",
    "    fpr, tpr, _ = roc_curve(test_targets[:,i], model.predict(test_bottleneck)[:,i])\n",
    "    print('AUC for {}: {:.4f}'.format(diseases[i], auc(fpr, tpr)))\n",
    "    plt.plot(fpr, tpr, label=diseases[i])\n",
    "plt.xlabel('False positive rate')\n",
    "plt.ylabel('True positive rate')\n",
    "plt.legend()\n",
    "plt.title('Receiver operator characteristic curve')\n",
    "plt.show()"
   ]
  },
  {
   "cell_type": "code",
   "execution_count": 23,
   "metadata": {},
   "outputs": [
    {
     "data": {
      "image/png": "[encoded data removed]",
      "text/plain": [
       "<matplotlib.figure.Figure at 0x7efe7d016ef0>"
      ]
     },
     "metadata": {},
     "output_type": "display_data"
    }
   ],
   "source": [
    "from sklearn.metrics import confusion_matrix\n",
    "\n",
    "cm = confusion_matrix(np.argmax(test_targets, axis=1),\n",
    "                      np.argmax(model.predict(test_bottleneck), axis=1))\n",
    "plt.imshow(cm, cmap=plt.cm.Blues)\n",
    "plt.colorbar()\n",
    "indexes = np.arange(len(diseases))\n",
    "for i in indexes:\n",
    "    for j in indexes:\n",
    "        plt.text(j, i, cm[i, j])\n",
    "plt.xticks(indexes, diseases, rotation=90)\n",
    "plt.xlabel('Predicted label')\n",
    "plt.yticks(indexes, diseases)\n",
    "plt.ylabel('True label')\n",
    "plt.title('Confusion matrix')\n",
    "plt.show()"
   ]
  },
  {
   "cell_type": "code",
   "execution_count": 24,
   "metadata": {},
   "outputs": [
    {
     "data": {
      "application/vnd.jupyter.widget-view+json": {
       "model_id": "cda1563bca4945c2a5e9e4193021516a"
      }
     },
     "metadata": {},
     "output_type": "display_data"
    },
    {
     "name": "stdout",
     "output_type": "stream",
     "text": [
      "\n"
     ]
    }
   ],
   "source": [
    "import csv\n",
    "\n",
    "with open('predictions.csv', 'w') as f:\n",
    "    csvwriter = csv.writer(f)\n",
    "    csvwriter.writerow(['Id', 'task_1', 'task_2'])\n",
    "    for path in tqdm_notebook(sorted(test_files)):\n",
    "        tensor = preprocess_input(get_tensor(path))\n",
    "        pred = model.predict(resnet50.predict(tensor))[0]\n",
    "        csvwriter.writerow([path, pred[0], pred[2]])"
   ]
  },
  {
   "cell_type": "code",
   "execution_count": 28,
   "metadata": {
    "collapsed": true
   },
   "outputs": [],
   "source": [
    "from keras.applications.vgg16 import VGG16\n",
    "vgg16 = VGG16(include_top=False, input_shape=(224, 224, 3))"
   ]
  },
  {
   "cell_type": "code",
   "execution_count": 26,
   "metadata": {
    "collapsed": true
   },
   "outputs": [],
   "source": [
    "train_bottleneck = vgg16.predict(train_tensors)\n",
    "valid_bottleneck = vgg16.predict(valid_tensors)\n",
    "test_bottleneck = vgg16.predict(test_tensors)"
   ]
  },
  {
   "cell_type": "code",
   "execution_count": 29,
   "metadata": {},
   "outputs": [
    {
     "name": "stdout",
     "output_type": "stream",
     "text": [
      "_________________________________________________________________\n",
      "Layer (type)                 Output Shape              Param #   \n",
      "=================================================================\n",
      "global_average_pooling2d_2 ( (None, 2048)              0         \n",
      "_________________________________________________________________\n",
      "dropout_3 (Dropout)          (None, 2048)              0         \n",
      "_________________________________________________________________\n",
      "dense_4 (Dense)              (None, 2048)              4196352   \n",
      "_________________________________________________________________\n",
      "dropout_4 (Dropout)          (None, 2048)              0         \n",
      "_________________________________________________________________\n",
      "dense_5 (Dense)              (None, 2048)              4196352   \n",
      "_________________________________________________________________\n",
      "dense_6 (Dense)              (None, 3)                 6147      \n",
      "=================================================================\n",
      "Total params: 8,398,851.0\n",
      "Trainable params: 8,398,851.0\n",
      "Non-trainable params: 0.0\n",
      "_________________________________________________________________\n"
     ]
    }
   ],
   "source": [
    "from keras.layers import GlobalAveragePooling2D, Dense, Dropout\n",
    "from keras.models import Sequential\n",
    "\n",
    "model = Sequential()\n",
    "model.add(GlobalAveragePooling2D(input_shape=train_bottleneck.shape[1:]))\n",
    "model.add(Dropout(0.5))\n",
    "model.add(Dense(2048, activation='tanh'))\n",
    "model.add(Dropout(0.5))\n",
    "model.add(Dense(2048, activation='tanh'))\n",
    "model.add(Dense(3, activation='softmax'))\n",
    "model.summary()"
   ]
  },
  {
   "cell_type": "code",
   "execution_count": 30,
   "metadata": {
    "collapsed": true
   },
   "outputs": [],
   "source": [
    "\n",
    "from keras import optimizers\n",
    "\n",
    "model.compile(loss='categorical_crossentropy', metrics=['accuracy'],\n",
    "              optimizer=optimizers.SGD(lr=0.0001, momentum=0.9, decay=1e-6))"
   ]
  },
  {
   "cell_type": "code",
   "execution_count": 31,
   "metadata": {},
   "outputs": [
    {
     "name": "stdout",
     "output_type": "stream",
     "text": [
      "Train on 2000 samples, validate on 150 samples\n",
      "Epoch 1/100\n",
      "2000/2000 [==============================] - 1s - loss: 0.9855 - acc: 0.5965 - val_loss: 1.1784 - val_acc: 0.5200\n",
      "Epoch 2/100\n",
      "2000/2000 [==============================] - 0s - loss: 0.8754 - acc: 0.6340 - val_loss: 1.1303 - val_acc: 0.5267\n",
      "Epoch 3/100\n",
      "2000/2000 [==============================] - 0s - loss: 0.8183 - acc: 0.6455 - val_loss: 1.2281 - val_acc: 0.5267\n",
      "Epoch 4/100\n",
      "2000/2000 [==============================] - 0s - loss: 0.8164 - acc: 0.6545 - val_loss: 1.0110 - val_acc: 0.5600\n",
      "Epoch 5/100\n",
      "2000/2000 [==============================] - 0s - loss: 0.7981 - acc: 0.6640 - val_loss: 0.9372 - val_acc: 0.5733\n",
      "Epoch 6/100\n",
      "2000/2000 [==============================] - 0s - loss: 0.7870 - acc: 0.6800 - val_loss: 1.0370 - val_acc: 0.5733\n",
      "Epoch 7/100\n",
      "2000/2000 [==============================] - 0s - loss: 0.7756 - acc: 0.6725 - val_loss: 0.9579 - val_acc: 0.5867\n",
      "Epoch 8/100\n",
      "2000/2000 [==============================] - 0s - loss: 0.7361 - acc: 0.6830 - val_loss: 0.9553 - val_acc: 0.6000\n",
      "Epoch 9/100\n",
      "2000/2000 [==============================] - 0s - loss: 0.7722 - acc: 0.6860 - val_loss: 0.9334 - val_acc: 0.6067\n",
      "Epoch 10/100\n",
      "2000/2000 [==============================] - 0s - loss: 0.7343 - acc: 0.6930 - val_loss: 0.8795 - val_acc: 0.6200\n",
      "Epoch 11/100\n",
      "2000/2000 [==============================] - 0s - loss: 0.7366 - acc: 0.6855 - val_loss: 0.9080 - val_acc: 0.6067\n",
      "Epoch 12/100\n",
      "2000/2000 [==============================] - 0s - loss: 0.7160 - acc: 0.6950 - val_loss: 0.8663 - val_acc: 0.6333\n",
      "Epoch 13/100\n",
      "2000/2000 [==============================] - 0s - loss: 0.7314 - acc: 0.6990 - val_loss: 0.8779 - val_acc: 0.6067\n",
      "Epoch 14/100\n",
      "2000/2000 [==============================] - 0s - loss: 0.7284 - acc: 0.6945 - val_loss: 0.8953 - val_acc: 0.6200\n",
      "Epoch 15/100\n",
      "2000/2000 [==============================] - 0s - loss: 0.7012 - acc: 0.6935 - val_loss: 0.8588 - val_acc: 0.6333\n",
      "Epoch 16/100\n",
      "2000/2000 [==============================] - 0s - loss: 0.7308 - acc: 0.6800 - val_loss: 0.9668 - val_acc: 0.6067\n",
      "Epoch 17/100\n",
      "2000/2000 [==============================] - 0s - loss: 0.6807 - acc: 0.7140 - val_loss: 0.8809 - val_acc: 0.6200\n",
      "Epoch 18/100\n",
      "2000/2000 [==============================] - 0s - loss: 0.6909 - acc: 0.7070 - val_loss: 0.8954 - val_acc: 0.6133\n",
      "Epoch 19/100\n",
      "2000/2000 [==============================] - 0s - loss: 0.6940 - acc: 0.6950 - val_loss: 0.8720 - val_acc: 0.6333\n",
      "Epoch 20/100\n",
      "2000/2000 [==============================] - 0s - loss: 0.7000 - acc: 0.7010 - val_loss: 0.8712 - val_acc: 0.6267\n",
      "Epoch 21/100\n",
      "2000/2000 [==============================] - 0s - loss: 0.6935 - acc: 0.7075 - val_loss: 0.8447 - val_acc: 0.6400\n",
      "Epoch 22/100\n",
      "2000/2000 [==============================] - 0s - loss: 0.6791 - acc: 0.7110 - val_loss: 0.8145 - val_acc: 0.6667\n",
      "Epoch 23/100\n",
      "2000/2000 [==============================] - 0s - loss: 0.6909 - acc: 0.7115 - val_loss: 0.8353 - val_acc: 0.6533\n",
      "Epoch 24/100\n",
      "2000/2000 [==============================] - 0s - loss: 0.6895 - acc: 0.7095 - val_loss: 0.8331 - val_acc: 0.6600\n",
      "Epoch 25/100\n",
      "2000/2000 [==============================] - 0s - loss: 0.6776 - acc: 0.7085 - val_loss: 0.8023 - val_acc: 0.6867\n",
      "Epoch 26/100\n",
      "2000/2000 [==============================] - 0s - loss: 0.6895 - acc: 0.7090 - val_loss: 0.8269 - val_acc: 0.6733\n",
      "Epoch 27/100\n",
      "2000/2000 [==============================] - 0s - loss: 0.6754 - acc: 0.7150 - val_loss: 0.8348 - val_acc: 0.6800\n",
      "Epoch 28/100\n",
      "2000/2000 [==============================] - 0s - loss: 0.6941 - acc: 0.7050 - val_loss: 0.8627 - val_acc: 0.6667\n",
      "Epoch 29/100\n",
      "2000/2000 [==============================] - 0s - loss: 0.6821 - acc: 0.7065 - val_loss: 0.8691 - val_acc: 0.6667\n",
      "Epoch 30/100\n",
      "2000/2000 [==============================] - 0s - loss: 0.6672 - acc: 0.7220 - val_loss: 0.8283 - val_acc: 0.6733\n",
      "Epoch 31/100\n",
      "2000/2000 [==============================] - 0s - loss: 0.6541 - acc: 0.7195 - val_loss: 0.8638 - val_acc: 0.6600\n",
      "Epoch 32/100\n",
      "2000/2000 [==============================] - 0s - loss: 0.6798 - acc: 0.7055 - val_loss: 0.8010 - val_acc: 0.7000\n",
      "Epoch 33/100\n",
      "2000/2000 [==============================] - 0s - loss: 0.6668 - acc: 0.7210 - val_loss: 0.8338 - val_acc: 0.6800\n",
      "Epoch 34/100\n",
      "2000/2000 [==============================] - 0s - loss: 0.6618 - acc: 0.7190 - val_loss: 0.8624 - val_acc: 0.6600\n",
      "Epoch 35/100\n",
      "2000/2000 [==============================] - 0s - loss: 0.6597 - acc: 0.7155 - val_loss: 0.8460 - val_acc: 0.6667\n",
      "Epoch 36/100\n",
      "2000/2000 [==============================] - 0s - loss: 0.6730 - acc: 0.7180 - val_loss: 0.8135 - val_acc: 0.6800\n",
      "Epoch 37/100\n",
      "2000/2000 [==============================] - 0s - loss: 0.6376 - acc: 0.7400 - val_loss: 0.8067 - val_acc: 0.7000\n",
      "Epoch 38/100\n",
      "2000/2000 [==============================] - 0s - loss: 0.6695 - acc: 0.7120 - val_loss: 0.7960 - val_acc: 0.6933\n",
      "Epoch 39/100\n",
      "2000/2000 [==============================] - 0s - loss: 0.6651 - acc: 0.7195 - val_loss: 0.8368 - val_acc: 0.6733\n",
      "Epoch 40/100\n",
      "2000/2000 [==============================] - 0s - loss: 0.6682 - acc: 0.7150 - val_loss: 0.8280 - val_acc: 0.6800\n",
      "Epoch 41/100\n",
      "2000/2000 [==============================] - 0s - loss: 0.6520 - acc: 0.7140 - val_loss: 0.8490 - val_acc: 0.6733\n",
      "Epoch 42/100\n",
      "2000/2000 [==============================] - 0s - loss: 0.6451 - acc: 0.7205 - val_loss: 0.8569 - val_acc: 0.6800\n",
      "Epoch 43/100\n",
      "2000/2000 [==============================] - 0s - loss: 0.6376 - acc: 0.7195 - val_loss: 0.8318 - val_acc: 0.6867\n",
      "Epoch 44/100\n",
      "2000/2000 [==============================] - 0s - loss: 0.6434 - acc: 0.7285 - val_loss: 0.8738 - val_acc: 0.6600\n",
      "Epoch 45/100\n",
      "2000/2000 [==============================] - 0s - loss: 0.6549 - acc: 0.7175 - val_loss: 0.8026 - val_acc: 0.6867\n",
      "Epoch 46/100\n",
      "2000/2000 [==============================] - 0s - loss: 0.6551 - acc: 0.7075 - val_loss: 0.8037 - val_acc: 0.6867\n",
      "Epoch 47/100\n",
      "2000/2000 [==============================] - 0s - loss: 0.6622 - acc: 0.7185 - val_loss: 0.8569 - val_acc: 0.6667\n",
      "Epoch 48/100\n",
      "2000/2000 [==============================] - 0s - loss: 0.6664 - acc: 0.7210 - val_loss: 0.8173 - val_acc: 0.6733\n",
      "Epoch 49/100\n",
      "2000/2000 [==============================] - 0s - loss: 0.6582 - acc: 0.7195 - val_loss: 0.8042 - val_acc: 0.7000\n",
      "Epoch 50/100\n",
      "2000/2000 [==============================] - 0s - loss: 0.6435 - acc: 0.7250 - val_loss: 0.8301 - val_acc: 0.6800\n",
      "Epoch 51/100\n",
      "2000/2000 [==============================] - 0s - loss: 0.6456 - acc: 0.7270 - val_loss: 0.8080 - val_acc: 0.7000\n",
      "Epoch 52/100\n",
      "2000/2000 [==============================] - 0s - loss: 0.6463 - acc: 0.7260 - val_loss: 0.8104 - val_acc: 0.6733\n",
      "Epoch 53/100\n",
      "2000/2000 [==============================] - 0s - loss: 0.6471 - acc: 0.7325 - val_loss: 0.8400 - val_acc: 0.6800\n",
      "Epoch 54/100\n",
      "2000/2000 [==============================] - 0s - loss: 0.6306 - acc: 0.7365 - val_loss: 0.8578 - val_acc: 0.6733\n",
      "Epoch 55/100\n",
      "2000/2000 [==============================] - 0s - loss: 0.6313 - acc: 0.7335 - val_loss: 0.8144 - val_acc: 0.6800\n",
      "Epoch 56/100\n",
      "2000/2000 [==============================] - 0s - loss: 0.6445 - acc: 0.7275 - val_loss: 0.7881 - val_acc: 0.7067\n",
      "Epoch 57/100\n",
      "2000/2000 [==============================] - 0s - loss: 0.6443 - acc: 0.7280 - val_loss: 0.7880 - val_acc: 0.7000\n",
      "Epoch 58/100\n",
      "2000/2000 [==============================] - 0s - loss: 0.6441 - acc: 0.7325 - val_loss: 0.8135 - val_acc: 0.7067\n",
      "Epoch 59/100\n",
      "2000/2000 [==============================] - 0s - loss: 0.6373 - acc: 0.7210 - val_loss: 0.8125 - val_acc: 0.7000\n",
      "Epoch 60/100\n",
      "2000/2000 [==============================] - 0s - loss: 0.6276 - acc: 0.7325 - val_loss: 0.8170 - val_acc: 0.7000\n",
      "Epoch 61/100\n",
      "2000/2000 [==============================] - 0s - loss: 0.6451 - acc: 0.7195 - val_loss: 0.8087 - val_acc: 0.6867\n",
      "Epoch 62/100\n",
      "2000/2000 [==============================] - 0s - loss: 0.6387 - acc: 0.7350 - val_loss: 0.8182 - val_acc: 0.6933\n",
      "Epoch 63/100\n",
      "2000/2000 [==============================] - 0s - loss: 0.6391 - acc: 0.7305 - val_loss: 0.7983 - val_acc: 0.6933\n",
      "Epoch 64/100\n",
      "2000/2000 [==============================] - 0s - loss: 0.6317 - acc: 0.7225 - val_loss: 0.7761 - val_acc: 0.7133\n",
      "Epoch 65/100\n"
     ]
    },
    {
     "name": "stdout",
     "output_type": "stream",
     "text": [
      "2000/2000 [==============================] - 0s - loss: 0.6213 - acc: 0.7295 - val_loss: 0.8105 - val_acc: 0.6933\n",
      "Epoch 66/100\n",
      "2000/2000 [==============================] - 0s - loss: 0.6226 - acc: 0.7295 - val_loss: 0.8426 - val_acc: 0.6933\n",
      "Epoch 67/100\n",
      "2000/2000 [==============================] - 0s - loss: 0.6248 - acc: 0.7350 - val_loss: 0.8058 - val_acc: 0.7067\n",
      "Epoch 68/100\n",
      "2000/2000 [==============================] - 0s - loss: 0.6290 - acc: 0.7325 - val_loss: 0.8320 - val_acc: 0.6800\n",
      "Epoch 69/100\n",
      "2000/2000 [==============================] - 0s - loss: 0.6293 - acc: 0.7265 - val_loss: 0.7861 - val_acc: 0.7133\n",
      "Epoch 70/100\n",
      "2000/2000 [==============================] - 0s - loss: 0.6250 - acc: 0.7360 - val_loss: 0.7811 - val_acc: 0.7000\n",
      "Epoch 71/100\n",
      "2000/2000 [==============================] - 0s - loss: 0.6182 - acc: 0.7315 - val_loss: 0.7984 - val_acc: 0.6933\n",
      "Epoch 72/100\n",
      "2000/2000 [==============================] - 0s - loss: 0.6262 - acc: 0.7315 - val_loss: 0.8031 - val_acc: 0.7000\n",
      "Epoch 73/100\n",
      "2000/2000 [==============================] - 0s - loss: 0.6279 - acc: 0.7260 - val_loss: 0.8041 - val_acc: 0.7133\n",
      "Epoch 74/100\n",
      "2000/2000 [==============================] - 0s - loss: 0.6193 - acc: 0.7345 - val_loss: 0.7974 - val_acc: 0.7133\n",
      "Epoch 75/100\n",
      "2000/2000 [==============================] - 0s - loss: 0.6268 - acc: 0.7275 - val_loss: 0.7783 - val_acc: 0.7133\n",
      "Epoch 76/100\n",
      "2000/2000 [==============================] - 0s - loss: 0.6244 - acc: 0.7330 - val_loss: 0.8219 - val_acc: 0.6933\n",
      "Epoch 77/100\n",
      "2000/2000 [==============================] - 0s - loss: 0.6418 - acc: 0.7240 - val_loss: 0.7788 - val_acc: 0.7067\n",
      "Epoch 78/100\n",
      "2000/2000 [==============================] - 0s - loss: 0.6414 - acc: 0.7295 - val_loss: 0.7860 - val_acc: 0.7133\n",
      "Epoch 79/100\n",
      "2000/2000 [==============================] - 0s - loss: 0.6282 - acc: 0.7295 - val_loss: 0.8033 - val_acc: 0.7067\n",
      "Epoch 80/100\n",
      "2000/2000 [==============================] - 0s - loss: 0.6221 - acc: 0.7370 - val_loss: 0.7767 - val_acc: 0.7000\n",
      "Epoch 81/100\n",
      "2000/2000 [==============================] - 0s - loss: 0.6185 - acc: 0.7330 - val_loss: 0.8183 - val_acc: 0.6933\n",
      "Epoch 82/100\n",
      "2000/2000 [==============================] - 0s - loss: 0.6314 - acc: 0.7285 - val_loss: 0.7813 - val_acc: 0.7000\n",
      "Epoch 83/100\n",
      "2000/2000 [==============================] - 0s - loss: 0.6249 - acc: 0.7300 - val_loss: 0.7864 - val_acc: 0.7133\n",
      "Epoch 84/100\n",
      "2000/2000 [==============================] - 0s - loss: 0.6292 - acc: 0.7365 - val_loss: 0.7770 - val_acc: 0.7000\n",
      "Epoch 85/100\n",
      "2000/2000 [==============================] - 0s - loss: 0.6221 - acc: 0.7375 - val_loss: 0.7894 - val_acc: 0.7133\n",
      "Epoch 86/100\n",
      "2000/2000 [==============================] - 0s - loss: 0.6146 - acc: 0.7500 - val_loss: 0.7883 - val_acc: 0.7067\n",
      "Epoch 87/100\n",
      "2000/2000 [==============================] - 0s - loss: 0.6155 - acc: 0.7335 - val_loss: 0.7963 - val_acc: 0.7067\n",
      "Epoch 88/100\n",
      "2000/2000 [==============================] - 0s - loss: 0.6053 - acc: 0.7490 - val_loss: 0.8021 - val_acc: 0.7067\n",
      "Epoch 89/100\n",
      "2000/2000 [==============================] - 0s - loss: 0.6253 - acc: 0.7365 - val_loss: 0.7964 - val_acc: 0.7067\n",
      "Epoch 90/100\n",
      "2000/2000 [==============================] - 0s - loss: 0.6026 - acc: 0.7375 - val_loss: 0.8096 - val_acc: 0.7000\n",
      "Epoch 91/100\n",
      "2000/2000 [==============================] - 0s - loss: 0.6190 - acc: 0.7365 - val_loss: 0.7856 - val_acc: 0.7067\n",
      "Epoch 92/100\n",
      "2000/2000 [==============================] - 0s - loss: 0.6162 - acc: 0.7415 - val_loss: 0.8066 - val_acc: 0.7067\n",
      "Epoch 93/100\n",
      "2000/2000 [==============================] - 0s - loss: 0.6143 - acc: 0.7470 - val_loss: 0.7871 - val_acc: 0.6933\n",
      "Epoch 94/100\n",
      "2000/2000 [==============================] - 0s - loss: 0.6199 - acc: 0.7395 - val_loss: 0.7931 - val_acc: 0.7133\n",
      "Epoch 95/100\n",
      "2000/2000 [==============================] - 0s - loss: 0.6160 - acc: 0.7375 - val_loss: 0.8017 - val_acc: 0.7133\n",
      "Epoch 96/100\n",
      "2000/2000 [==============================] - 0s - loss: 0.6062 - acc: 0.7470 - val_loss: 0.8297 - val_acc: 0.7000\n",
      "Epoch 97/100\n",
      "2000/2000 [==============================] - 0s - loss: 0.6118 - acc: 0.7355 - val_loss: 0.7784 - val_acc: 0.7000\n",
      "Epoch 98/100\n",
      "2000/2000 [==============================] - 0s - loss: 0.6094 - acc: 0.7425 - val_loss: 0.7631 - val_acc: 0.7067\n",
      "Epoch 99/100\n",
      "2000/2000 [==============================] - 0s - loss: 0.6260 - acc: 0.7290 - val_loss: 0.8017 - val_acc: 0.7067\n",
      "Epoch 100/100\n",
      "2000/2000 [==============================] - 0s - loss: 0.6136 - acc: 0.7425 - val_loss: 0.8091 - val_acc: 0.7067\n"
     ]
    }
   ],
   "source": [
    "from keras.callbacks import ModelCheckpoint\n",
    "\n",
    "checkpointer = ModelCheckpoint(filepath='vgg16.from.bottleneck.hdf5', save_best_only=True)\n",
    "history = model.fit(train_bottleneck, train_targets, epochs=100,\n",
    "          validation_data=(valid_bottleneck, valid_targets),\n",
    "          callbacks=[checkpointer], verbose=1, shuffle=True)"
   ]
  },
  {
   "cell_type": "code",
   "execution_count": 32,
   "metadata": {
    "collapsed": true
   },
   "outputs": [],
   "source": [
    "model.load_weights('vgg16.from.bottleneck.hdf5')"
   ]
  },
  {
   "cell_type": "code",
   "execution_count": 33,
   "metadata": {},
   "outputs": [
    {
     "name": "stdout",
     "output_type": "stream",
     "text": [
      "512/594 [========================>.....] - ETA: 0s\n",
      "Testing loss: 0.6421\n",
      "Testing accuracy: 0.7508\n"
     ]
    }
   ],
   "source": [
    "print('\\nTesting loss: {:.4f}\\nTesting accuracy: {:.4f}'.format(*model.evaluate(test_bottleneck, test_targets)))"
   ]
  },
  {
   "cell_type": "code",
   "execution_count": 34,
   "metadata": {},
   "outputs": [
    {
     "data": {
      "image/png": "[encoded data removed]",
      "text/plain": [
       "<matplotlib.figure.Figure at 0x7efe72077eb8>"
      ]
     },
     "metadata": {},
     "output_type": "display_data"
    }
   ],
   "source": [
    "import matplotlib.pyplot as plt\n",
    "\n",
    "plt.plot(history.history['loss'], label='Training loss')\n",
    "plt.plot(history.history['val_loss'], label='Validation loss')\n",
    "plt.legend()\n",
    "plt.show()"
   ]
  },
  {
   "cell_type": "code",
   "execution_count": 35,
   "metadata": {},
   "outputs": [
    {
     "name": "stdout",
     "output_type": "stream",
     "text": [
      "AUC for melanoma: 0.7706\n",
      "AUC for nevus: 0.8488\n",
      "AUC for seborrheic_keratosis: 0.8975\n"
     ]
    },
    {
     "data": {
      "image/png": "[encoded data removed]",
      "text/plain": [
       "<matplotlib.figure.Figure at 0x7efe72398278>"
      ]
     },
     "metadata": {},
     "output_type": "display_data"
    }
   ],
   "source": [
    "from sklearn.metrics import roc_curve, auc\n",
    "\n",
    "for i in range(len(diseases)):\n",
    "    fpr, tpr, _ = roc_curve(test_targets[:,i], model.predict(test_bottleneck)[:,i])\n",
    "    print('AUC for {}: {:.4f}'.format(diseases[i], auc(fpr, tpr)))\n",
    "    plt.plot(fpr, tpr, label=diseases[i])\n",
    "plt.xlabel('False positive rate')\n",
    "plt.ylabel('True positive rate')\n",
    "plt.legend()\n",
    "plt.title('Receiver operator characteristic curve')\n",
    "plt.show()"
   ]
  },
  {
   "cell_type": "code",
   "execution_count": 36,
   "metadata": {},
   "outputs": [
    {
     "data": {
      "image/png": "[encoded data removed]",
      "text/plain": [
       "<matplotlib.figure.Figure at 0x7efe71f8c780>"
      ]
     },
     "metadata": {},
     "output_type": "display_data"
    }
   ],
   "source": [
    "from sklearn.metrics import confusion_matrix\n",
    "\n",
    "cm = confusion_matrix(np.argmax(test_targets, axis=1),\n",
    "                      np.argmax(model.predict(test_bottleneck), axis=1))\n",
    "plt.imshow(cm, cmap=plt.cm.Blues)\n",
    "plt.colorbar()\n",
    "indexes = np.arange(len(diseases))\n",
    "for i in indexes:\n",
    "    for j in indexes:\n",
    "        plt.text(j, i, cm[i, j])\n",
    "plt.xticks(indexes, diseases, rotation=90)\n",
    "plt.xlabel('Predicted label')\n",
    "plt.yticks(indexes, diseases)\n",
    "plt.ylabel('True label')\n",
    "plt.title('Confusion matrix')\n",
    "plt.show()"
   ]
  },
  {
   "cell_type": "code",
   "execution_count": 37,
   "metadata": {},
   "outputs": [
    {
     "data": {
      "application/vnd.jupyter.widget-view+json": {
       "model_id": "089e72c631354b318508d340e987429a"
      }
     },
     "metadata": {},
     "output_type": "display_data"
    },
    {
     "name": "stdout",
     "output_type": "stream",
     "text": [
      "\n"
     ]
    }
   ],
   "source": [
    "import csv\n",
    "\n",
    "with open('predictionsVgg16.csv', 'w') as f:\n",
    "    csvwriter = csv.writer(f)\n",
    "    csvwriter.writerow(['Id', 'task_1', 'task_2'])\n",
    "    for path in tqdm_notebook(sorted(test_files)):\n",
    "        tensor = preprocess_input(get_tensor(path))\n",
    "        pred = model.predict(resnet50.predict(tensor))[0]\n",
    "        csvwriter.writerow([path, pred[0], pred[2]])"
   ]
  },
  {
   "cell_type": "code",
   "execution_count": null,
   "metadata": {
    "collapsed": true
   },
   "outputs": [],
   "source": []
  }
 ],
 "metadata": {
  "kernelspec": {
   "display_name": "Python 3",
   "language": "python",
   "name": "python3"
  },
  "language_info": {
   "codemirror_mode": {
    "name": "ipython",
    "version": 3
   },
   "file_extension": ".py",
   "mimetype": "text/x-python",
   "name": "python",
   "nbconvert_exporter": "python",
   "pygments_lexer": "ipython3",
   "version": "3.6.1"
  }
 },
 "nbformat": 4,
 "nbformat_minor": 2
}
